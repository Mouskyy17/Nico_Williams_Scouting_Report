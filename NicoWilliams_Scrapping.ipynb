{
 "cells": [
  {
   "cell_type": "code",
   "execution_count": 1,
   "metadata": {
    "id": "RHme5adkvepj"
   },
   "outputs": [],
   "source": [
    "import pandas as pd\n",
    "\n",
    "df=pd.read_html('https://fbref.com/en/players/afdc14d7/scout/365_m1/Nico-Williams-Scouting-Report',attrs={'id': 'scout_full_AM'})[0]"
   ]
  },
  {
   "cell_type": "code",
   "execution_count": 2,
   "metadata": {
    "id": "Ysxcawt-w-RG"
   },
   "outputs": [],
   "source": [
    "df = df.dropna()"
   ]
  },
  {
   "cell_type": "code",
   "execution_count": 3,
   "metadata": {
    "colab": {
     "base_uri": "https://localhost:8080/"
    },
    "id": "PMEsUw70xgRA",
    "outputId": "2a9906cf-45f3-416f-b37b-04c0c187996d"
   },
   "outputs": [
    {
     "name": "stdout",
     "output_type": "stream",
     "text": [
      "<class 'pandas.core.frame.DataFrame'>\n",
      "Index: 149 entries, 0 to 168\n",
      "Data columns (total 3 columns):\n",
      " #   Column                        Non-Null Count  Dtype \n",
      "---  ------                        --------------  ----- \n",
      " 0   (Standard Stats, Statistic)   149 non-null    object\n",
      " 1   (Standard Stats, Per 90)      149 non-null    object\n",
      " 2   (Standard Stats, Percentile)  149 non-null    object\n",
      "dtypes: object(3)\n",
      "memory usage: 4.7+ KB\n"
     ]
    }
   ],
   "source": [
    "df.info()"
   ]
  },
  {
   "cell_type": "code",
   "execution_count": 4,
   "metadata": {
    "colab": {
     "base_uri": "https://localhost:8080/"
    },
    "id": "I-Fj47fix3ES",
    "outputId": "59186a75-2f5b-4b20-f371-cf39e30294b1"
   },
   "outputs": [
    {
     "name": "stdout",
     "output_type": "stream",
     "text": [
      "<class 'pandas.core.frame.DataFrame'>\n",
      "Index: 126 entries, 0 to 167\n",
      "Data columns (total 3 columns):\n",
      " #   Column                        Non-Null Count  Dtype  \n",
      "---  ------                        --------------  -----  \n",
      " 0   (Standard Stats, Statistic)   126 non-null    object \n",
      " 1   (Standard Stats, Per 90)      126 non-null    float64\n",
      " 2   (Standard Stats, Percentile)  126 non-null    int64  \n",
      "dtypes: float64(1), int64(1), object(1)\n",
      "memory usage: 3.9+ KB\n",
      "None\n"
     ]
    }
   ],
   "source": [
    "# Import the 'errors' module from pandas\n",
    "import pandas as pd\n",
    "\n",
    "# Filter out rows where 'Per 90' cannot be converted to numeric\n",
    "df = df[pd.to_numeric(df[('Standard Stats', 'Per 90')], errors='coerce').notna()]\n",
    "\n",
    "# Convert the 'Per 90' column to numeric format\n",
    "df[('Standard Stats', 'Per 90')] = pd.to_numeric(df[('Standard Stats', 'Per 90')])\n",
    "\n",
    "# Convert the 'Percentile' column by removing the '%' symbol and converting to numeric format\n",
    "df[('Standard Stats', 'Percentile')] = df[('Standard Stats', 'Percentile')].str.replace('%', '', regex=False)\n",
    "df[('Standard Stats', 'Percentile')] = pd.to_numeric(df[('Standard Stats', 'Percentile')])\n",
    "\n",
    "# Display data types to verify\n",
    "print(df.info())"
   ]
  },
  {
   "cell_type": "code",
   "execution_count": 5,
   "metadata": {
    "colab": {
     "base_uri": "https://localhost:8080/",
     "height": 238
    },
    "id": "X8Z7yekcyRMo",
    "outputId": "ecb259d7-a94e-4c01-ed73-628972289447"
   },
   "outputs": [
    {
     "data": {
      "text/html": [
       "<div>\n",
       "<style scoped>\n",
       "    .dataframe tbody tr th:only-of-type {\n",
       "        vertical-align: middle;\n",
       "    }\n",
       "\n",
       "    .dataframe tbody tr th {\n",
       "        vertical-align: top;\n",
       "    }\n",
       "\n",
       "    .dataframe thead tr th {\n",
       "        text-align: left;\n",
       "    }\n",
       "</style>\n",
       "<table border=\"1\" class=\"dataframe\">\n",
       "  <thead>\n",
       "    <tr>\n",
       "      <th></th>\n",
       "      <th colspan=\"3\" halign=\"left\">Standard Stats</th>\n",
       "    </tr>\n",
       "    <tr>\n",
       "      <th></th>\n",
       "      <th>Statistic</th>\n",
       "      <th>Per 90</th>\n",
       "      <th>Percentile</th>\n",
       "    </tr>\n",
       "  </thead>\n",
       "  <tbody>\n",
       "    <tr>\n",
       "      <th>162</th>\n",
       "      <td>Penalty Kicks Conceded</td>\n",
       "      <td>0.00</td>\n",
       "      <td>54</td>\n",
       "    </tr>\n",
       "    <tr>\n",
       "      <th>163</th>\n",
       "      <td>Own Goals</td>\n",
       "      <td>0.00</td>\n",
       "      <td>50</td>\n",
       "    </tr>\n",
       "    <tr>\n",
       "      <th>164</th>\n",
       "      <td>Ball Recoveries</td>\n",
       "      <td>4.40</td>\n",
       "      <td>66</td>\n",
       "    </tr>\n",
       "    <tr>\n",
       "      <th>166</th>\n",
       "      <td>Aerials Won</td>\n",
       "      <td>0.43</td>\n",
       "      <td>43</td>\n",
       "    </tr>\n",
       "    <tr>\n",
       "      <th>167</th>\n",
       "      <td>Aerials Lost</td>\n",
       "      <td>0.64</td>\n",
       "      <td>71</td>\n",
       "    </tr>\n",
       "  </tbody>\n",
       "</table>\n",
       "</div>"
      ],
      "text/plain": [
       "             Standard Stats                  \n",
       "                  Statistic Per 90 Percentile\n",
       "162  Penalty Kicks Conceded   0.00         54\n",
       "163               Own Goals   0.00         50\n",
       "164         Ball Recoveries   4.40         66\n",
       "166             Aerials Won   0.43         43\n",
       "167            Aerials Lost   0.64         71"
      ]
     },
     "execution_count": 5,
     "metadata": {},
     "output_type": "execute_result"
    }
   ],
   "source": [
    "df.tail()"
   ]
  },
  {
   "cell_type": "code",
   "execution_count": 6,
   "metadata": {
    "id": "S5d5EcPSvv1v"
   },
   "outputs": [],
   "source": [
    "df.to_csv('nico_williams_stats.csv', index=False)"
   ]
  }
 ],
 "metadata": {
  "colab": {
   "provenance": []
  },
  "kernelspec": {
   "display_name": "Python 3 (ipykernel)",
   "language": "python",
   "name": "python3"
  },
  "language_info": {
   "codemirror_mode": {
    "name": "ipython",
    "version": 3
   },
   "file_extension": ".py",
   "mimetype": "text/x-python",
   "name": "python",
   "nbconvert_exporter": "python",
   "pygments_lexer": "ipython3",
   "version": "3.12.7"
  }
 },
 "nbformat": 4,
 "nbformat_minor": 4
}
